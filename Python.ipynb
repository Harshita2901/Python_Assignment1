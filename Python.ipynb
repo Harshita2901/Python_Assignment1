{
 "cells": [
  {
   "cell_type": "markdown",
   "id": "bb6793f8",
   "metadata": {},
   "source": [
    "# List, Dictionary and Functions"
   ]
  },
  {
   "cell_type": "markdown",
   "id": "46c8f309",
   "metadata": {},
   "source": [
    "Q1. WAP to input number of seconds and print it in form HH:MM:SS."
   ]
  },
  {
   "cell_type": "code",
   "execution_count": 2,
   "id": "8c001d6f",
   "metadata": {},
   "outputs": [
    {
     "name": "stdout",
     "output_type": "stream",
     "text": [
      "Input time in seconds: 4000\n",
      "HH:MM:SS :- 1:6:40\n"
     ]
    }
   ],
   "source": [
    "sec = float(input(\"Input time in seconds: \"))\n",
    "hour = sec // 3600\n",
    "sec %= 3600\n",
    "minutes = sec // 60\n",
    "sec %= 60\n",
    "seconds = sec\n",
    "print(\"HH:MM:SS :- %d:%d:%d\" % (hour, minutes, seconds))"
   ]
  },
  {
   "cell_type": "markdown",
   "id": "cc3a74b3",
   "metadata": {},
   "source": [
    "Q2. Mr. jone has two walls of different dimensions such that their dimensions are to be given input in feet and inches (width and height both). He visited painter to color both sticks such that cost of color is 120/- per square meter. Find total cost of painting both walls. Bill should contain details of painting cost of each along with total cost."
   ]
  },
  {
   "cell_type": "code",
   "execution_count": 3,
   "id": "3bd2c7d7",
   "metadata": {},
   "outputs": [
    {
     "name": "stdout",
     "output_type": "stream",
     "text": [
      "\n",
      "Enter height= 5\n",
      "Enter width= 5\n",
      "Cost of painting wall 1:  278.70912000000004\n",
      "\n",
      "Enter height= 6\n",
      "Enter width= 6\n",
      "Cost of painting wall 2:  401.3411328000001\n",
      "\n",
      "Total Cost:  680.0502528000002\n"
     ]
    }
   ],
   "source": [
    "total=0\n",
    "for i in range(1,3):\n",
    "    height=float(input(\"\\nEnter height= \"))\n",
    "    width=float(input(\"Enter width= \"))\n",
    "    width_m=width*0.3048\n",
    "    height_m=height*0.3048\n",
    "    area= width_m*height_m\n",
    "    cost_1=area*120\n",
    "    total=total+cost_1\n",
    "    print(\"Cost of painting wall %d: \"%(i),cost_1)\n",
    "print(\"\\nTotal Cost: \",total)"
   ]
  },
  {
   "cell_type": "markdown",
   "id": "a5ea0ed3",
   "metadata": {},
   "source": [
    "Q3. Write a program to calculate BMI of a person"
   ]
  },
  {
   "cell_type": "code",
   "execution_count": 4,
   "id": "a4641faa",
   "metadata": {},
   "outputs": [
    {
     "name": "stdout",
     "output_type": "stream",
     "text": [
      "Enter height in m= 1.57\n",
      "Enter weight in kg= 47\n",
      "BMI is: 19\n",
      "Normal \n"
     ]
    }
   ],
   "source": [
    "height=float(input(\"Enter height in m= \"))\n",
    "weight=float(input(\"Enter weight in kg= \"))\n",
    "\n",
    "bmi= weight/(height*height)\n",
    "print(\"BMI is: %d\" % (bmi))\n",
    "\n",
    "if (bmi<18.5):\n",
    "    print(\"Underweight \")\n",
    "\n",
    "elif (bmi>=18.5 and bmi<=24.9):\n",
    "    print(\"Normal \")\n",
    "\n",
    "elif (bmi>=25 and bmi<=29.9):\n",
    "    print(\"Overweight\")\n",
    "\n",
    "elif (bmi>=30):\n",
    "    print(\"Obese\")\n",
    "\n",
    "else:\n",
    "    print(\"enter valid values\")"
   ]
  },
  {
   "cell_type": "markdown",
   "id": "6296d4bb",
   "metadata": {},
   "source": [
    "Q4. Write a program to check if the given number is Armstrong or not."
   ]
  },
  {
   "cell_type": "code",
   "execution_count": 5,
   "id": "74e0610d",
   "metadata": {},
   "outputs": [
    {
     "name": "stdout",
     "output_type": "stream",
     "text": [
      "Enter a number: 153\n",
      "153 is an Armstrong number\n"
     ]
    }
   ],
   "source": [
    "num = int(input(\"Enter a number: \"))  \n",
    "sum = 0  \n",
    "temp = num  \n",
    "  \n",
    "while temp > 0:  \n",
    "   digit = temp % 10  \n",
    "   sum += digit ** 3  \n",
    "   temp //= 10  \n",
    "  \n",
    "if num == sum:  \n",
    "   print(num,\"is an Armstrong number\")  \n",
    "else:  \n",
    "   print(num,\"is not an Armstrong number\")  "
   ]
  },
  {
   "cell_type": "markdown",
   "id": "09bc84db",
   "metadata": {},
   "source": [
    "Q5. Print pattern using loop"
   ]
  },
  {
   "cell_type": "code",
   "execution_count": 6,
   "id": "d1726a19",
   "metadata": {},
   "outputs": [
    {
     "name": "stdout",
     "output_type": "stream",
     "text": [
      "Enter the number of rows: 6\n",
      "     \n",
      "    1 \n",
      "   3 5 \n",
      "  7 9 11 \n",
      " 13 15 17 19 \n",
      "21 23 25 27 29 \n"
     ]
    }
   ],
   "source": [
    "rows = int(input(\"Enter the number of rows: \"))\n",
    "\n",
    "k=0\n",
    "lower=1\n",
    "\n",
    "for i in range(1, rows+1):\n",
    "    for space in range(1, (rows-i)+1):\n",
    "        print(end=\" \")\n",
    "   \n",
    "    while k!=(2*i-2):\n",
    "        if(lower%2!=0):\n",
    "            print(lower,end=\" \")\n",
    "        lower+=1\n",
    "        k+=1\n",
    "    k=0\n",
    "    print()"
   ]
  },
  {
   "cell_type": "markdown",
   "id": "d5a58b0f",
   "metadata": {},
   "source": [
    "Q6. WAP to make a list of distinct elements from a list."
   ]
  },
  {
   "cell_type": "code",
   "execution_count": 7,
   "id": "c3fa86a9",
   "metadata": {},
   "outputs": [
    {
     "name": "stdout",
     "output_type": "stream",
     "text": [
      "List Before  [1, 1, 1, 2, 3, 4, 4, 4, 4, 8, 9, 9, 9]\n",
      "List After removing duplicates  [1, 2, 3, 4, 8, 9]\n"
     ]
    }
   ],
   "source": [
    "my_list = [1, 1, 1, 2, 3, 4, 4, 4, 4, 8, 9, 9, 9]\n",
    "print(\"List Before \", my_list)\n",
    "temp_list = []\n",
    "\n",
    "for i in my_list:\n",
    "    if i not in temp_list:\n",
    "        temp_list.append(i)\n",
    "\n",
    "my_list = temp_list\n",
    "\n",
    "print(\"List After removing duplicates \", my_list)"
   ]
  },
  {
   "cell_type": "markdown",
   "id": "9c42a58d",
   "metadata": {},
   "source": [
    "Q7. Take a String input from user and find frequency of each character such that frequency will be stored in dictionary."
   ]
  },
  {
   "cell_type": "code",
   "execution_count": 8,
   "id": "31a68c40",
   "metadata": {},
   "outputs": [
    {
     "name": "stdout",
     "output_type": "stream",
     "text": [
      "Enter String : geeksforgeeks\n",
      "Frequency of each character in 'geeksforgeeks' is :\n",
      " {'g': 2, 'e': 4, 'k': 2, 's': 2, 'f': 1, 'o': 1, 'r': 1}\n"
     ]
    }
   ],
   "source": [
    "input_string = input(\"Enter String : \")\n",
    "freq = {} \n",
    "  \n",
    "for char in input_string: \n",
    "    if char in freq: \n",
    "        freq[char] += 1\n",
    "    else: \n",
    "        freq[char] = 1\n",
    "\n",
    "print (\"Frequency of each character in '{}' is :\\n {}\".format(input_string, str(freq)))"
   ]
  },
  {
   "cell_type": "markdown",
   "id": "ec46a813",
   "metadata": {},
   "source": [
    "Q8. Write a python program to check whether two lists are circularly identical or not."
   ]
  },
  {
   "cell_type": "code",
   "execution_count": 9,
   "id": "c758360f",
   "metadata": {},
   "outputs": [
    {
     "name": "stdout",
     "output_type": "stream",
     "text": [
      "List 1:  [10, 10, 0, 0, 10]\n",
      "List 2:  [10, 10, 10, 0, 0]\n",
      "Yes\n",
      "[10, 10, 0, 0, 10] and [10, 10, 10, 0, 0] are circularly identical\n"
     ]
    }
   ],
   "source": [
    "def circularly_identical(list1, list2):\n",
    "     \n",
    "    return(' '.join(map(str, list2)) in ' '.join(map(str, list1 * 2)))\n",
    "      \n",
    "list1 = [10, 10, 0, 0, 10]\n",
    "print(\"List 1: \",list1)\n",
    "list2 = [10, 10, 10, 0, 0]\n",
    "print(\"List 2: \",list2)\n",
    "\n",
    "if (circularly_identical(list1, list2)):\n",
    "    print(\"Yes\")\n",
    "    print(list1,\"and\",list2,\"are circularly identical\")\n",
    "else:\n",
    "    print(\"No\")\n",
    "    print(list1,\"and\",list2,\"are not circularly identical\")"
   ]
  },
  {
   "cell_type": "markdown",
   "id": "58da26ab",
   "metadata": {},
   "source": [
    "Q9. To find average marks of two semesters."
   ]
  },
  {
   "cell_type": "code",
   "execution_count": 10,
   "id": "16d5d798",
   "metadata": {},
   "outputs": [
    {
     "name": "stdout",
     "output_type": "stream",
     "text": [
      "First Semester marks: \n",
      " {'Roll_No1': 76.0, 'Roll_No2': 45.0, 'Roll_No3': 58.0, 'Roll_No4': 98.0}\n",
      "Second Semester marks: \n",
      " {'Roll_No1': 65.0, 'Roll_No2': 75.0, 'Roll_No3': 48.0, 'Roll_No4': 90.0}\n",
      "Average marks of both semesters: \n",
      " {'Roll_No1': 70.5, 'Roll_No2': 60.0, 'Roll_No3': 53.0, 'Roll_No4': 94.0}\n"
     ]
    }
   ],
   "source": [
    "dict_1 = {\n",
    "  \"Roll_No1\": 76.00,\n",
    "  \"Roll_No2\": 45.00,\n",
    "  \"Roll_No3\": 58.00,\n",
    "  \"Roll_No4\": 98.00\n",
    "}\n",
    "print(\"First Semester marks: \\n\",dict_1)\n",
    "\n",
    "dict_2 = {\n",
    "  \"Roll_No1\": 65.00,\n",
    "  \"Roll_No2\": 75.00,\n",
    "  \"Roll_No3\": 48.00,\n",
    "  \"Roll_No4\": 90.00\n",
    "}\n",
    "print(\"Second Semester marks: \\n\",dict_2)\n",
    "\n",
    "dict_3={}\n",
    "for value in dict_2:\n",
    "    if value in dict_1:\n",
    "        sum = dict_1[value] + dict_2[value]\n",
    "        dict_3[value] = sum/2 \n",
    "print(\"Average marks of both semesters: \\n\",dict_3)"
   ]
  },
  {
   "cell_type": "markdown",
   "id": "dfca945e",
   "metadata": {},
   "source": [
    "Q10. Merging two dictionaries"
   ]
  },
  {
   "cell_type": "code",
   "execution_count": 13,
   "id": "a0eb441a",
   "metadata": {},
   "outputs": [
    {
     "name": "stdout",
     "output_type": "stream",
     "text": [
      "1st dictionary:  Counter({'Mango': 20, 'Grapes': 10, 'Apple': 5})\n",
      "2nd dictionary:  Counter({'Apple': 5, 'Mango': 5, 'Watermelon': 2})\n",
      "Final dictionary: Counter({'Mango': 25, 'Apple': 10, 'Grapes': 10, 'Watermelon': 2})\n"
     ]
    }
   ],
   "source": [
    "def merge(ini_dictionary1,ini_dictionary2):\n",
    "    dict_3=ini_dictionary1+ini_dictionary2\n",
    "    return dict_3\n",
    "\n",
    "from collections import Counter\n",
    "\n",
    "ini_dictionary1 = Counter({'Apple':5, 'Grapes':10, 'Mango':20})\n",
    "ini_dictionary2 = Counter({'Apple':5, 'Watermelon':2, 'Mango':5})\n",
    "  \n",
    "print (\"1st dictionary: \", str(ini_dictionary1))\n",
    "print (\"2nd dictionary: \", str(ini_dictionary2))\n",
    "\n",
    "final_dictionary = merge(ini_dictionary1,ini_dictionary2)  \n",
    "print (\"Final dictionary:\",str(final_dictionary))\n"
   ]
  }
 ],
 "metadata": {
  "kernelspec": {
   "display_name": "Python 3",
   "language": "python",
   "name": "python3"
  },
  "language_info": {
   "codemirror_mode": {
    "name": "ipython",
    "version": 3
   },
   "file_extension": ".py",
   "mimetype": "text/x-python",
   "name": "python",
   "nbconvert_exporter": "python",
   "pygments_lexer": "ipython3",
   "version": "3.8.8"
  }
 },
 "nbformat": 4,
 "nbformat_minor": 5
}
